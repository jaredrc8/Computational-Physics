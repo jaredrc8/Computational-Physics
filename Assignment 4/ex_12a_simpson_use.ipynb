{
 "cells": [
  {
   "cell_type": "code",
   "execution_count": 3,
   "metadata": {},
   "outputs": [
    {
     "name": "stdout",
     "output_type": "stream",
     "text": [
      "Numerical solution, analytical solution, absolute error\n",
      "1.7182818402426843 1.718281828459045 1.1783639175533267e-08\n"
     ]
    }
   ],
   "source": [
    "import math\n",
    "import numpy as np\n",
    "\n",
    "def f(x):\n",
    "    '''Exponential function defined using numpy.'''\n",
    "    return np.exp(x)\n",
    "\n",
    "def simpson(fun,a,b,n):\n",
    "    # Specifications of the Simpson integration procedure\n",
    "    h = (b-a)/float(n)\n",
    "    x0 = a\n",
    "    xn = b\n",
    "    y0 = fun(x0)\n",
    "    yn = fun(xn)\n",
    "\n",
    "    # The weighted average of the integral can be decomposed into sums over odd and even indexes\n",
    "    feven = 0.0\n",
    "    fodd = 0.0\n",
    "    for j in range(2,n,2):\n",
    "        xeven = a + j*h\n",
    "        feven += fun(xeven)\n",
    "\n",
    "        xodd = a +(j-1)*h\n",
    "        fodd += fun(xodd)\n",
    "\n",
    "    # range method above yet skips the last odd term \n",
    "    xodd = a + (n-1) * h\n",
    "    fodd += fun(xodd)\n",
    "\n",
    "    # final weighted average of the simpson integration procedure\n",
    "    intfun = h*(y0 + 2.0*feven + 4.0*fodd + yn)/3.0\n",
    "    \n",
    "    return intfun\n",
    "\n",
    "# # Specifications to be passed to the Simpson procedure\n",
    "a = 0.0\n",
    "b = 1.0\n",
    "n = 30\n",
    "\n",
    "# Numerical integration of function using Simpson procedure\n",
    "I = simpson(f,a,b,n)\n",
    "\n",
    "# Analytical solution of the integral of exp(x) integrated from 0 up to 1.\n",
    "Ia = math.exp(1.0) - 1.0\n",
    "\n",
    "\n",
    "print('Numerical solution, analytical solution, absolute error')\n",
    "print(I, Ia, abs(I-Ia))"
   ]
  },
  {
   "cell_type": "code",
   "execution_count": null,
   "metadata": {},
   "outputs": [],
   "source": []
  }
 ],
 "metadata": {
  "kernelspec": {
   "display_name": "Python 3",
   "language": "python",
   "name": "python3"
  },
  "language_info": {
   "codemirror_mode": {
    "name": "ipython",
    "version": 3
   },
   "file_extension": ".py",
   "mimetype": "text/x-python",
   "name": "python",
   "nbconvert_exporter": "python",
   "pygments_lexer": "ipython3",
   "version": "3.8.5"
  }
 },
 "nbformat": 4,
 "nbformat_minor": 4
}
