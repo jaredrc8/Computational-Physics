{
 "cells": [
  {
   "cell_type": "code",
   "execution_count": 9,
   "metadata": {},
   "outputs": [
    {
     "name": "stdout",
     "output_type": "stream",
     "text": [
      "0 -4.144832625267251e-17\n",
      "1 1.0000000000000004\n",
      "2 3.0000000000000004\n",
      "3 -3.9999999999999996\n",
      "4 5.995204332975846e-16\n",
      "5 8.881784197001252e-16\n",
      "6 -1.7162197588997212e-15\n",
      "7 -3.5971225997855074e-16\n",
      "8 -2.590520390792032e-17\n",
      "9 -2.2241467926657305e-15\n"
     ]
    },
    {
     "data": {
      "image/png": "[encoded data removed]",
      "text/plain": [
       "<Figure size 300x300 with 1 Axes>"
      ]
     },
     "metadata": {},
     "output_type": "display_data"
    }
   ],
   "source": [
    "import matplotlib.pylab as plt\n",
    "import math\n",
    "import numpy as np\n",
    "\n",
    "\n",
    "# This is the simpson integration routine to use in this assignment\n",
    "def simpson(fun,a,b,n):\n",
    "    # Specifications of the Simpson integration procedure\n",
    "    h = (b-a)/float(n)\n",
    "    x0 = a\n",
    "    xn = b\n",
    "    y0 = fun(x0)\n",
    "    yn = fun(xn)\n",
    "\n",
    "    # The weighted average of the integral can be decomposed into sums over odd and even indexes\n",
    "    feven = 0.0\n",
    "    fodd = 0.0\n",
    "    for j in range(2,n,2):\n",
    "        xeven = a + j*h\n",
    "        feven += fun(xeven)\n",
    "\n",
    "        xodd = a +(j-1)*h\n",
    "        fodd += fun(xodd)\n",
    "\n",
    "    # range method above yet skips the last odd term \n",
    "    xodd = a + (n-1) * h\n",
    "    fodd += fun(xodd)\n",
    "\n",
    "    # final weighted average of the simpson integration procedure\n",
    "    intfun = h*(y0 + 2.0*feven + 4.0*fodd + yn)/3.0\n",
    "    \n",
    "    return intfun\n",
    "\n",
    "\n",
    "\n",
    "\n",
    "# Define parameters for the problem (For problem 1.2b, omega = 1 and T is the period)\n",
    "omega = 1.0\n",
    "T = 2.0*math.pi/omega\n",
    "\n",
    "# limits of the integration\n",
    "a = 0.0\n",
    "b = T\n",
    "\n",
    "# number of points to calculate the integral (50 integration elements may be sufficient)\n",
    "n = 50\n",
    "\n",
    "# Number of coefficients to be calculated (set up to 10 coefficients for now)\n",
    "nc = 10\n",
    "\n",
    "# define the function that will be expanded in terms of Fourier series\n",
    "def function(t):\n",
    "    #return math.sin(omega*t)\n",
    "    return math.cos(omega*t) + 3*math.cos(2*omega*t) - 4*math.cos(3*omega*t)\n",
    "\n",
    "# calculate the coefficient a_0 first! That is just integrating the function directly over the interval [a,b]\n",
    "intf = simpson(function, a, b, n)\n",
    "a0 = intf/T\n",
    "print(0,a0)\n",
    "\n",
    "# Initiate lists that will store all Fourier coeffcients (k=0 and k>0). \n",
    "# But we can store already our a0 coefficient on the list.\n",
    "a_manual_list = [a0]\n",
    "b_manual_list = [0.0]\n",
    "\n",
    "# define functions that will calculate all other coefficients\n",
    "def fak(t):\n",
    "    return function(t)*math.cos(k*omega*t)\n",
    "\n",
    "#def fbk(t):\n",
    "#    return\n",
    "    \n",
    "# All functions defined above are 'idle'. We are now going to loop over the coefficients components\n",
    "# to calculate all other coefficients from k=1 upt to k=nc. Just use a simple for-loop for that.\n",
    "# for-loop over number of coefficients\n",
    "for k in range(1,nc):\n",
    "    #implement the calculation of Fourier coefficients here.\n",
    "    intf = simpson(fak, a, b, n)\n",
    "    ak = 2.0*intf/T\n",
    "    a_manual_list.append(ak)\n",
    "    print(k,ak)\n",
    "    \n",
    "# After the loop is completed and new coefficients are appended on the lists, \n",
    "# add plot instructions that will make a graphic for a_k and b_k versus k in the same panel.\n",
    "plt.figure(figsize=(3,3))\n",
    "plt.plot(range(nc), a_manual_list, marker='o')\n",
    "plt.ylabel('a_k')\n",
    "plt.xlabel('k')\n",
    "plt.show()\n"
   ]
  },
  {
   "cell_type": "code",
   "execution_count": null,
   "metadata": {},
   "outputs": [],
   "source": []
  }
 ],
 "metadata": {
  "kernelspec": {
   "display_name": "Python 3 (ipykernel)",
   "language": "python",
   "name": "python3"
  },
  "language_info": {
   "codemirror_mode": {
    "name": "ipython",
    "version": 3
   },
   "file_extension": ".py",
   "mimetype": "text/x-python",
   "name": "python",
   "nbconvert_exporter": "python",
   "pygments_lexer": "ipython3",
   "version": "3.12.3"
  }
 },
 "nbformat": 4,
 "nbformat_minor": 4
}
